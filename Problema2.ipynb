{
 "cells": [
  {
   "cell_type": "markdown",
   "metadata": {},
   "source": [
    "# Problema2\n",
    "\n",
    "\n",
    "Lea el archivo 'winemag-data-130k-v2.csv' y realice lo siguiente:\n",
    "\n",
    "- Explore el dataframe según lo visto en clase\n",
    "- Realice al menos  4 renombre de columna y 3 creación de nuevas columnas según criterio. Deberá crear las columnas que crea conveniente. \n",
    "    Ejemplo: Según el país etiquetelos según continente.\n",
    "\n",
    "- Genere 4 reportes por agrupamiento de datos. Deberá elegir que reportes realizar\n",
    "    - Ejemplo: Por contienente mostrar los vinos mejor puntuados\n",
    "    - Ejemplo2: Promedio de precio de vino y cantidad de reviews obtenidos según pais. Ordenado de mejor a peor \n",
    "\n",
    "\n",
    "- Al menos uno de estos datos agrupados deberán ser almacenados en excel o csv\n",
    "   \n",
    "   Puede revisar esta solución https://stackoverflow.com/questions/25789264/pandas-dataframegroupby-export-to-excel\n",
    "\n",
    "\n",
    "\n",
    "### Datos \n",
    "\n",
    "winemag-data-130k-v2.csv\n",
    "- https://github.com/gdelgador/ProgramacionPython202401/blob/main/Modulo5/src/winemag-data-130k-v2.csv\n",
    "\n",
    "País según continente:\n",
    "- https://gist.githubusercontent.com/kintero/7d1db891401f56256c79/raw/a61f6d0dda82c3f04d2e6e76c3870552ef6cf0c6/paises.csv\n",
    " \n",
    "\n",
    "\n",
    "\n",
    "\n"
   ]
  },
  {
   "cell_type": "code",
   "execution_count": 10,
   "metadata": {},
   "outputs": [
    {
     "name": "stdout",
     "output_type": "stream",
     "text": [
      "<class 'pandas.core.frame.DataFrame'>\n",
      "RangeIndex: 65499 entries, 0 to 65498\n",
      "Data columns (total 18 columns):\n",
      " #   Column                 Non-Null Count  Dtype   \n",
      "---  ------                 --------------  -----   \n",
      " 0   Unnamed: 0             65499 non-null  int64   \n",
      " 1   Country                65467 non-null  object  \n",
      " 2   description            65499 non-null  object  \n",
      " 3   designation            46588 non-null  object  \n",
      " 4   Points                 65499 non-null  int64   \n",
      " 5   price                  60829 non-null  float64 \n",
      " 6   Region                 65467 non-null  object  \n",
      " 7   region_1               54744 non-null  object  \n",
      " 8   region_2               25170 non-null  object  \n",
      " 9   taster_name            51856 non-null  object  \n",
      " 10  taster_twitter_handle  49467 non-null  object  \n",
      " 11  title                  65499 non-null  object  \n",
      " 12  Grape Variety          65499 non-null  object  \n",
      " 13  winery                 65499 non-null  object  \n",
      " 14  Rating Category        65499 non-null  category\n",
      " 15  Price per Point        60829 non-null  float64 \n",
      " 16  Age                    63111 non-null  float64 \n",
      " 17  Price Range            60829 non-null  category\n",
      "dtypes: category(2), float64(3), int64(2), object(11)\n",
      "memory usage: 8.1+ MB\n",
      "None\n"
     ]
    },
    {
     "name": "stderr",
     "output_type": "stream",
     "text": [
      "/tmp/ipykernel_11033/3196421571.py:29: FutureWarning: The default of observed=False is deprecated and will be changed to True in a future version of pandas. Pass observed=False to retain current behavior or observed=True to adopt the future default and silence this warning.\n",
      "  reporte3 = df_wines.groupby(['Price Range', 'Rating Category']).size().unstack(fill_value=0)\n"
     ]
    }
   ],
   "source": [
    "import pandas as pd\n",
    "\n",
    "# Leer el archivo CSV de vinos\n",
    "df_wines = pd.read_csv('./data/winemag-data-130k-v2.csv')\n",
    "\n",
    "# Renombrar columnas\n",
    "df_wines.rename(columns={'country': 'Country', 'province': 'Region', 'variety': 'Grape Variety', 'points': 'Points'}, inplace=True)\n",
    "\n",
    "# Crear la columna 'Rating Category' para agrupar los vinos por categorías de puntuación\n",
    "df_wines['Rating Category'] = pd.cut(df_wines['Points'], bins=[0, 85, 90, 95, 100], labels=['Below Average', 'Average', 'Above Average', 'Outstanding'])\n",
    "\n",
    "# Crear la columna 'Price per Point' para calcular el precio por punto\n",
    "df_wines['Price per Point'] = df_wines['price'] / df_wines['Points']\n",
    "\n",
    "# Crear una columna 'Age' que calcule la antigüedad del vino en años desde la añada\n",
    "df_wines['Age'] = pd.Timestamp.now().year - pd.to_datetime(df_wines['title'].str.extract(r'(\\d{4})').squeeze(), format='%Y', errors='coerce').dt.year\n",
    "\n",
    "# Crear una columna 'Price Range' para agrupar los vinos por rango de precio\n",
    "df_wines['Price Range'] = pd.cut(df_wines['price'], bins=[0, 20, 50, 100, float('inf')], labels=['Cheap', 'Moderate', 'Expensive', 'Luxury'])\n",
    "\n",
    "# Reportes por agrupamiento de datos\n",
    "# Reporte 1: Promedio de precio de vino y cantidad de reviews obtenidos según país\n",
    "reporte1 = df_wines.groupby('Country').agg({'price': 'mean', 'Points': 'count'}).rename(columns={'Points': 'Review Count'}).sort_values(by='price', ascending=False)\n",
    "\n",
    "# Reporte 2: Promedio de precio por punto según variedad de uva\n",
    "reporte2 = df_wines.groupby('Grape Variety')['Price per Point'].mean().sort_values(ascending=False).head(10)\n",
    "\n",
    "# Reporte 3: Distribución de vinos por rango de precio y categoría de puntuación\n",
    "reporte3 = df_wines.groupby(['Price Range', 'Rating Category']).size().unstack(fill_value=0)\n",
    "\n",
    "# Reporte 4: Top 10 de regiones con mayor cantidad de vinos únicos\n",
    "reporte4 = df_wines.groupby('Region')['Grape Variety'].nunique().nlargest(10)\n",
    "\n",
    "# Guardar uno de los datos agrupados en un archivo CSV\n",
    "reporte1.to_csv('reporte1.csv')\n",
    "\n",
    "# Imprimir información general del dataframe de vinos\n",
    "print(df_wines.info())\n"
   ]
  }
 ],
 "metadata": {
  "kernelspec": {
   "display_name": "Python 3",
   "language": "python",
   "name": "python3"
  },
  "language_info": {
   "codemirror_mode": {
    "name": "ipython",
    "version": 3
   },
   "file_extension": ".py",
   "mimetype": "text/x-python",
   "name": "python",
   "nbconvert_exporter": "python",
   "pygments_lexer": "ipython3",
   "version": "3.10.13"
  }
 },
 "nbformat": 4,
 "nbformat_minor": 2
}
